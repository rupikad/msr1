{
 "cells": [
  {
   "cell_type": "markdown",
   "metadata": {},
   "source": [
    "# Mining Software Repositories Assignment 1 (MSR1)\n",
    "\n",
    "Using your newly minted repository mining skills, along with the `miner-utils` Python library ([link](https://github.com/EPICLab/miner-utils)), please answer the following questions using Python code in the empty code boxes below.\n",
    "\n",
    "Similar to the tutorials and in-class demonstration, you will want to provide authenticate to the GitHub API in order to have a higher rate-limit. ***NOTE***: Again, please do not include your authentication username or token in your submission."
   ]
  },
  {
   "cell_type": "code",
   "execution_count": 1,
   "metadata": {},
   "outputs": [
    {
     "name": "stderr",
     "output_type": "stream",
     "text": [
      "ERROR: Invalid requirement: \"'git+https://github.com/EPICLab/miner-utils'\"\n",
      "ERROR: Invalid requirement: \"'gitpython'\"\n",
      "ERROR: Invalid requirement: \"'pandas'\"\n"
     ]
    }
   ],
   "source": [
    "# install any missing dependencies (only needed if you haven't installed these already during tutorials)\n",
    "!pip install 'git+https://github.com/EPICLab/miner-utils'\n",
    "!pip install 'gitpython'\n",
    "!pip install 'pandas'"
   ]
  },
  {
   "cell_type": "code",
   "execution_count": 2,
   "metadata": {},
   "outputs": [],
   "source": [
    "userName = 'USER'\n",
    "token = 'TOKEN'"
   ]
  },
  {
   "cell_type": "code",
   "execution_count": 3,
   "metadata": {},
   "outputs": [],
   "source": [
    "# setup environment (import any needed dependencies)\n",
    "from minerutils import GitHub\n",
    "import pandas as pd\n",
    "from git import Repo\n",
    "import json\n",
    "from os import path\n",
    "from collections import Counter"
   ]
  },
  {
   "cell_type": "markdown",
   "metadata": {},
   "source": [
    "## Part 1: `discourse/discourse` repo\n",
    "For this part, we will investigate the [discourse/discourse](https://github.com/discourse/discourse) project."
   ]
  },
  {
   "cell_type": "code",
   "execution_count": 4,
   "metadata": {},
   "outputs": [],
   "source": [
    "# create github object\n",
    "gh = GitHub(userName, token)"
   ]
  },
  {
   "cell_type": "code",
   "execution_count": 22,
   "metadata": {},
   "outputs": [
    {
     "name": "stdout",
     "output_type": "stream",
     "text": [
      "pull check complete\n",
      "commit check complete\n"
     ]
    }
   ],
   "source": [
    "# opens the json file if it exists\n",
    "def open_file(file_name):\n",
    "    file = path.exists(file_name)\n",
    "    json_data = None\n",
    "    if file:\n",
    "        with open(file_name, \"r\", encoding=\"utf8\") as f:\n",
    "           json_data = json.loads(f.read())\n",
    "        return True, json_data\n",
    "    else:\n",
    "        return False, json_data\n",
    "\n",
    "# create new json file if it doesn't exist\n",
    "def create_file(data, file_name):   \n",
    "    # write to json from api call data\n",
    "    with open(file_name, \"w+\") as f:\n",
    "        f.write(json.dumps(data))    \n",
    "        gh.writeData(file_name, data)\n",
    "\n",
    "    # read data from pulls.json\n",
    "    return gh.readData(file_name)    \n",
    "\n",
    "# intializing \n",
    "fnames = [\"dis_pulls.json\", \"dis_commits.json\", \"dis_file_commits.json\"]\n",
    "dis = \"/repos/discourse/discourse\"\n",
    "\n",
    "# handling pull data\n",
    "p_check, pulls = open_file(fnames[0])\n",
    "if not p_check:\n",
    "    # download all the pull requests for discourse/discourse\n",
    "    pulls = gh.get(dis + \"/pulls\")    \n",
    "    # create a pulls.json \n",
    "    pulls = create_file(pulls, fnames[0])\n",
    "print(\"pull check complete\")\n",
    "    \n",
    "# handling commit data\n",
    "c_check, commits = open_file(fnames[1])\n",
    "if not c_check:\n",
    "    commits = gh.get(dis + \"/commits\")\n",
    "    commits = create_file(commits, fnames[1])\n",
    "print(\"commit check complete\")"
   ]
  },
  {
   "cell_type": "markdown",
   "metadata": {},
   "source": [
    "#### Question 1:\n",
    "What is the total number of unique contributors for this project? (Contributions include commits and pull requests)"
   ]
  },
  {
   "cell_type": "code",
   "execution_count": 6,
   "metadata": {},
   "outputs": [
    {
     "name": "stdout",
     "output_type": "stream",
     "text": [
      "Total number of unique contributers: 1251\n"
     ]
    }
   ],
   "source": [
    "# list of usernames\n",
    "contrib = []\n",
    "\n",
    "# handling pull data\n",
    "for p in pulls:\n",
    "    username = p['user']['login']\n",
    "    contrib.append(username)\n",
    "    \n",
    "# handling commit data\n",
    "for c in commits: \n",
    "    # if the author metadata exists\n",
    "    if c['author']:\n",
    "        username = c['author']['login']\n",
    "        contrib.append(username)    \n",
    "   \n",
    "    # if the author metadata doesn't exist\n",
    "    else:\n",
    "        username = c['commit']['author']['name']\n",
    "        contrib.append(username)\n",
    "\n",
    "# get unique values\n",
    "data = Counter(contrib)\n",
    "unique = len(data.most_common())\n",
    "    \n",
    "print(\"Total number of unique contributers:\", unique)"
   ]
  },
  {
   "cell_type": "markdown",
   "metadata": {},
   "source": [
    "#### Question 2:\n",
    "Which user made the most contributions to the project?"
   ]
  },
  {
   "cell_type": "code",
   "execution_count": 7,
   "metadata": {},
   "outputs": [
    {
     "name": "stdout",
     "output_type": "stream",
     "text": [
      "eviltrout made 6556 contributions, which is the most in this project.\n"
     ]
    }
   ],
   "source": [
    "# get the top contributer username + count\n",
    "user = data.most_common(1)[0][0]\n",
    "max_count = data.most_common(1)[0][1]\n",
    "\n",
    "ans = \"{} made {} contributions, which is the most in this project.\".format(user, max_count)\n",
    "print(ans)"
   ]
  },
  {
   "cell_type": "markdown",
   "metadata": {},
   "source": [
    "#### Question 3:\n",
    "Which user made the most commits to the [discourse/app/models/badge.rb](https://github.com/discourse/discourse/blob/master/app/models/badge.rb) file? (You can use GitHub to find this information, but we still need to see code for automatically determining the answer)"
   ]
  },
  {
   "cell_type": "code",
   "execution_count": 8,
   "metadata": {},
   "outputs": [
    {
     "name": "stdout",
     "output_type": "stream",
     "text": [
      "file check complete\n",
      "SamSaffron made 55 contributions, which is the most in this project.\n"
     ]
    }
   ],
   "source": [
    "# handling file commit data\n",
    "f_check, file_commits = open_file(fnames[2])\n",
    "if not f_check:\n",
    "    file_commits = gh.get(dis + \"/commits?path=app/models/badge.rb\")\n",
    "    file_commits = create_file(file_commits, fnames[2])\n",
    "print(\"file check complete\")\n",
    "\n",
    "# store all the users who commited to badge.rb\n",
    "badge_users = []\n",
    "\n",
    "# get the usernames\n",
    "for fc in file_commits:\n",
    "    if fc['author']:\n",
    "        badge_users.append(fc['author']['login'])\n",
    "    else:\n",
    "        badge_users.append(fc['commit']['author']['name'])\n",
    "\n",
    "# get the top contributer username + count\n",
    "badge = Counter(badge_users)\n",
    "user = badge.most_common(1)[0][0]\n",
    "max_count = badge.most_common(1)[0][1]\n",
    "\n",
    "badge_ans = \"{} made {} contributions, which is the most in this project.\".format(user, max_count)\n",
    "print(badge_ans)"
   ]
  },
  {
   "cell_type": "markdown",
   "metadata": {},
   "source": [
    "## Part 2: `gaearon` user\n",
    "For this part, we will investigate the developer [Dan Abramov](https://github.com/gaearon) (prominent developer of [React](https://reactjs.org/), co-author of [Redux](https://redux.js.org/) and [Create React App](https://create-react-app.dev/))."
   ]
  },
  {
   "cell_type": "code",
   "execution_count": 9,
   "metadata": {},
   "outputs": [],
   "source": [
    "# get full list of Dan Abramov repositories\n",
    "repos = gh.get(\"users/gaearon/repos\")\n",
    "\n",
    "# store Dan's repo names\n",
    "repo_list = []\n",
    "for r in repos:\n",
    "    repo_list.append(r[\"name\"])"
   ]
  },
  {
   "cell_type": "markdown",
   "metadata": {},
   "source": [
    "#### Question 1:\n",
    "Which of Dan's projects did he commit to most often in the past three years? (From June 1, 2017 to June 1, 2020)"
   ]
  },
  {
   "cell_type": "code",
   "execution_count": 20,
   "metadata": {},
   "outputs": [
    {
     "name": "stdout",
     "output_type": "stream",
     "text": [
      "max commits in repo: overreacted.io\n",
      "number of max: 250\n"
     ]
    }
   ],
   "source": [
    "# store repo name + num of commits\n",
    "range_repo = {}\n",
    "\n",
    "# get the list of commits for each repo btwn time range\n",
    "for r in repo_list:\n",
    "    author_repo = \"repos/gaearon/{}/commits?author=gaearon\".format(r)\n",
    "    clist_repo = gh.get(author_repo, params={\"since\": \"2017-06-01T00:00:00Z\", \n",
    "                                             \"until\": \"2020-06-01T00:00:00Z\"})        \n",
    "    # if commit exists in that repo, append repo + the number of commits\n",
    "    if clist_repo:\n",
    "        range_repo[r] = len(clist_repo)           \n",
    "\n",
    "# repo with the most commits\n",
    "max_commits = max(range_repo, key=range_repo.get)\n",
    "    \n",
    "# printing results\n",
    "# print(\"number of repo\", count_repo)\n",
    "# print(range_repo)\n",
    "print(\"max commits in repo:\", max_commits)\n",
    "print(\"number of max:\", range_repo[max_commits])"
   ]
  },
  {
   "cell_type": "markdown",
   "metadata": {},
   "source": [
    "#### Question 2:\n",
    "The [React](https://reactjs.org/) project was founded in 2013. When did Dan first make a release in the [facebook/react](https://github.com/facebook/react) project? And what was the version number of that release?"
   ]
  },
  {
   "cell_type": "code",
   "execution_count": 31,
   "metadata": {},
   "outputs": [
    {
     "name": "stdout",
     "output_type": "stream",
     "text": [
      "release check complete\n",
      "94\n"
     ]
    }
   ],
   "source": [
    "# get a list of all releases in the facebook project\n",
    "r_check, release_data = open_file(\"all_release.json\")\n",
    "if not r_check:  \n",
    "    all_release = gh.get(\"repos/facebook/react/releases\")\n",
    "    release_data = create_file(all_release, \"all_release.json\")\n",
    "print(\"release check complete\")\n",
    "\n",
    "print(len(release_data))\n",
    "# print(release_data)"
   ]
  },
  {
   "cell_type": "code",
   "execution_count": 33,
   "metadata": {},
   "outputs": [
    {
     "name": "stdout",
     "output_type": "stream",
     "text": [
      "Dan made his first relase on 2016-03-29T17:35:57Z, version number: v0.14.8\n"
     ]
    }
   ],
   "source": [
    "# dict for storing Dan's releases\n",
    "dan_releases = {}\n",
    "\n",
    "# get the version numbers and release dates\n",
    "for r in release_data:\n",
    "    if r['author']['login'] == 'gaearon':\n",
    "        dan_releases[r['tag_name']] = r['published_at']\n",
    "        \n",
    "# get Dan's first release version number and date\n",
    "first_rel = min(dan_releases, key=dan_releases.get)\n",
    "date = dan_releases[first_rel]\n",
    "\n",
    "rel_ans = \"Dan made his first relase on {}, version number: {}\".format(date, first_rel)\n",
    "print(rel_ans)"
   ]
  }
 ],
 "metadata": {
  "kernelspec": {
   "display_name": "Python 3",
   "language": "python",
   "name": "python3"
  },
  "language_info": {
   "codemirror_mode": {
    "name": "ipython",
    "version": 3
   },
   "file_extension": ".py",
   "mimetype": "text/x-python",
   "name": "python",
   "nbconvert_exporter": "python",
   "pygments_lexer": "ipython3",
   "version": "3.7.2"
  }
 },
 "nbformat": 4,
 "nbformat_minor": 4
}
